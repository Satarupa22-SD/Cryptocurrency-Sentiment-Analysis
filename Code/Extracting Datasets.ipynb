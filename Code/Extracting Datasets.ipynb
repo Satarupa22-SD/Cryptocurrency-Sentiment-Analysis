{
 "cells": [
  {
   "cell_type": "markdown",
   "id": "3305a508",
   "metadata": {},
   "source": [
    " ## Initializing The libraries:-\n",
    " #### Using snscrape to scape twitter data for cryptocurrencies. \n",
    " "
   ]
  },
  {
   "cell_type": "code",
   "execution_count": 6,
   "id": "d8a24726",
   "metadata": {},
   "outputs": [
    {
     "name": "stdout",
     "output_type": "stream",
     "text": [
      "Collecting git+https://github.com/JustAnotherArchivist/snscrape.git\n",
      "  Cloning https://github.com/JustAnotherArchivist/snscrape.git to c:\\users\\lucy22\\appdata\\local\\temp\\pip-req-build-qw18_ztx\n",
      "  Resolved https://github.com/JustAnotherArchivist/snscrape.git to commit b515a66b937276eafff41cf6b897c53ecf3d54a2\n",
      "  Installing build dependencies: started\n",
      "  Installing build dependencies: finished with status 'done'\n",
      "  Getting requirements to build wheel: started\n",
      "  Getting requirements to build wheel: finished with status 'done'\n",
      "  Installing backend dependencies: started\n",
      "  Installing backend dependencies: finished with status 'done'\n",
      "  Preparing metadata (pyproject.toml): started\n",
      "  Preparing metadata (pyproject.toml): finished with status 'done'\n",
      "Requirement already satisfied: lxml in c:\\users\\lucy22\\anaconda3\\lib\\site-packages (from snscrape==0.5.0.20230114.dev6+gb515a66) (4.6.3)\n",
      "Requirement already satisfied: pytz in c:\\users\\lucy22\\anaconda3\\lib\\site-packages (from snscrape==0.5.0.20230114.dev6+gb515a66) (2021.1)\n",
      "Requirement already satisfied: beautifulsoup4 in c:\\users\\lucy22\\anaconda3\\lib\\site-packages (from snscrape==0.5.0.20230114.dev6+gb515a66) (4.9.3)\n",
      "Requirement already satisfied: requests[socks] in c:\\users\\lucy22\\anaconda3\\lib\\site-packages (from snscrape==0.5.0.20230114.dev6+gb515a66) (2.28.0)\n",
      "Requirement already satisfied: filelock in c:\\users\\lucy22\\anaconda3\\lib\\site-packages (from snscrape==0.5.0.20230114.dev6+gb515a66) (3.0.12)\n",
      "Requirement already satisfied: soupsieve>1.2 in c:\\users\\lucy22\\anaconda3\\lib\\site-packages (from beautifulsoup4->snscrape==0.5.0.20230114.dev6+gb515a66) (2.2.1)\n",
      "Requirement already satisfied: charset-normalizer~=2.0.0 in c:\\users\\lucy22\\anaconda3\\lib\\site-packages (from requests[socks]->snscrape==0.5.0.20230114.dev6+gb515a66) (2.0.12)\n",
      "Requirement already satisfied: idna<4,>=2.5 in c:\\users\\lucy22\\anaconda3\\lib\\site-packages (from requests[socks]->snscrape==0.5.0.20230114.dev6+gb515a66) (2.10)\n",
      "Requirement already satisfied: urllib3<1.27,>=1.21.1 in c:\\users\\lucy22\\anaconda3\\lib\\site-packages (from requests[socks]->snscrape==0.5.0.20230114.dev6+gb515a66) (1.26.4)\n",
      "Requirement already satisfied: certifi>=2017.4.17 in c:\\users\\lucy22\\anaconda3\\lib\\site-packages (from requests[socks]->snscrape==0.5.0.20230114.dev6+gb515a66) (2022.12.7)\n",
      "Requirement already satisfied: PySocks!=1.5.7,>=1.5.6 in c:\\users\\lucy22\\anaconda3\\lib\\site-packages (from requests[socks]->snscrape==0.5.0.20230114.dev6+gb515a66) (1.7.1)\n",
      "Building wheels for collected packages: snscrape\n",
      "  Building wheel for snscrape (pyproject.toml): started\n",
      "  Building wheel for snscrape (pyproject.toml): finished with status 'done'\n",
      "  Created wheel for snscrape: filename=snscrape-0.5.0.20230114.dev6+gb515a66-py3-none-any.whl size=70310 sha256=463b4c953fcc33c6b9364065afbacf3cbfce86915bb730f2f06d4169a6561031\n",
      "  Stored in directory: C:\\Users\\lucy22\\AppData\\Local\\Temp\\pip-ephem-wheel-cache-9jf6tsxx\\wheels\\92\\42\\87\\33fa9b18f7a75d02643a9ca3743339aec9be28c6796267c7d8\n",
      "Successfully built snscrape\n",
      "Installing collected packages: snscrape\n",
      "  Attempting uninstall: snscrape\n",
      "    Found existing installation: snscrape 0.4.3.20220106\n",
      "    Uninstalling snscrape-0.4.3.20220106:\n",
      "      Successfully uninstalled snscrape-0.4.3.20220106\n",
      "Successfully installed snscrape-0.5.0.20230114.dev6+gb515a66\n",
      "Note: you may need to restart the kernel to use updated packages.\n"
     ]
    },
    {
     "name": "stderr",
     "output_type": "stream",
     "text": [
      "  Running command git clone --filter=blob:none --quiet https://github.com/JustAnotherArchivist/snscrape.git 'C:\\Users\\lucy22\\AppData\\Local\\Temp\\pip-req-build-qw18_ztx'\n"
     ]
    }
   ],
   "source": [
    "pip install git+https://github.com/JustAnotherArchivist/snscrape.git"
   ]
  },
  {
   "cell_type": "code",
   "execution_count": 8,
   "id": "5cfe9b80",
   "metadata": {},
   "outputs": [],
   "source": [
    "import snscrape.modules.twitter as sntwitter\n",
    "import pandas as pd"
   ]
  },
  {
   "cell_type": "markdown",
   "id": "380d0458",
   "metadata": {},
   "source": [
    "### Intuition :-\n",
    "In doing so I have selected the most common hashtags used while tweeting for cryptocurrencies. polular crypto account and crypto wallet account have also been consideded while writing down the query. Each of tweets have a minimum of 10 likes."
   ]
  },
  {
   "cell_type": "code",
   "execution_count": 25,
   "id": "fb6da9fb",
   "metadata": {},
   "outputs": [],
   "source": [
    "query = \"(#cryptocurrency OR #cryptotrading OR #crypto) (@Bitcoin OR @Ethereum OR @Metamask OR @Coinbase) min_faves:10 until:2023-01-27 since:2019-12-12\"\n",
    "tweets =[]\n",
    "limit = 15000"
   ]
  },
  {
   "cell_type": "markdown",
   "id": "49930690",
   "metadata": {},
   "source": [
    "### Extracting Tweets Into Dataframes:-"
   ]
  },
  {
   "cell_type": "code",
   "execution_count": 26,
   "id": "5acd01eb",
   "metadata": {},
   "outputs": [
    {
     "name": "stderr",
     "output_type": "stream",
     "text": [
      "<ipython-input-26-702511a8d22e>:5: FutureWarning: content is deprecated, use rawContent instead\n",
      "  tweets.append([tweet.date,tweet.user.username,tweet.content])\n"
     ]
    },
    {
     "name": "stdout",
     "output_type": "stream",
     "text": [
      "                          Date             User  \\\n",
      "0    2023-01-26 12:00:02+00:00          CoinexF   \n",
      "1    2023-01-26 04:50:54+00:00        ri_meyers   \n",
      "2    2023-01-25 18:53:48+00:00   ___INFINITY___   \n",
      "3    2023-01-25 18:12:35+00:00     Jay_Brockett   \n",
      "4    2023-01-25 17:11:30+00:00   BennyAtTheBank   \n",
      "...                        ...              ...   \n",
      "4262 2019-12-17 16:20:38+00:00     veradittakit   \n",
      "4263 2019-12-15 19:49:03+00:00       Concept211   \n",
      "4264 2019-12-13 14:40:36+00:00      Brad_Laurie   \n",
      "4265 2019-12-12 17:50:50+00:00  TheCryptoZombie   \n",
      "4266 2019-12-12 17:00:04+00:00     PlayRoyal_EN   \n",
      "\n",
      "                                                  Tweet  \n",
      "0     💡Découvrez le Top 5 des #cryptomonnaies les pl...  \n",
      "1     The opportunity is still here to grab some low...  \n",
      "2     🔥Join and win for $25,000 rewards for @coinbas...  \n",
      "3     Day 140 kindly asking @coinbase to List #VOLTI...  \n",
      "4     Look how helpful @MetaMask is with this email ...  \n",
      "...                                                 ...  \n",
      "4262  Pantera is proud to be leading the Series A ro...  \n",
      "4263  I can't recommend @ChicoCrypto's research enou...  \n",
      "4264  If you are a #crypto solider with a 'only-one-...  \n",
      "4265  What’s the best price to buy #Bitcoin at? In t...  \n",
      "4266  🎲#Dice $ETHPLO Competition is Live!\\nLasting a...  \n",
      "\n",
      "[4267 rows x 3 columns]\n"
     ]
    }
   ],
   "source": [
    "for tweet in sntwitter.TwitterSearchScraper(query).get_items():\n",
    "    if len(tweets) == limit:  \n",
    "        break\n",
    "    else:\n",
    "        tweets.append([tweet.date,tweet.user.username,tweet.content])\n",
    "    \n",
    "df = pd.DataFrame(tweets, columns=['Date', 'User', 'Tweet'])\n",
    "print(df)"
   ]
  },
  {
   "cell_type": "markdown",
   "id": "32de1dd5",
   "metadata": {},
   "source": [
    "### Converting To CSV File From Dataframe :-"
   ]
  },
  {
   "cell_type": "code",
   "execution_count": 27,
   "id": "0711ec48",
   "metadata": {},
   "outputs": [],
   "source": [
    "df.to_csv(\"Cryptocurrency_data.csv\")"
   ]
  },
  {
   "cell_type": "markdown",
   "id": "b3cc6a34",
   "metadata": {},
   "source": [
    "  #### ------------------------------------------------------------------------------------------------------------------------------------------------------------------------------------------------------------------"
   ]
  },
  {
   "cell_type": "markdown",
   "id": "7deaafc6",
   "metadata": {},
   "source": [
    "## "
   ]
  },
  {
   "cell_type": "markdown",
   "id": "ea57043d",
   "metadata": {},
   "source": [
    "### Extracting Tweets For Bitcoin :-"
   ]
  },
  {
   "cell_type": "code",
   "execution_count": 30,
   "id": "a0f73948",
   "metadata": {},
   "outputs": [],
   "source": [
    "query = \"(@Bitcoin) min_faves:10 until:2023-01-27 since:2010-12-12\"\n",
    "tweets =[]\n",
    "limit = 15000"
   ]
  },
  {
   "cell_type": "code",
   "execution_count": 31,
   "id": "6e7dc613",
   "metadata": {},
   "outputs": [
    {
     "name": "stderr",
     "output_type": "stream",
     "text": [
      "<ipython-input-31-702511a8d22e>:5: FutureWarning: content is deprecated, use rawContent instead\n",
      "  tweets.append([tweet.date,tweet.user.username,tweet.content])\n"
     ]
    },
    {
     "name": "stdout",
     "output_type": "stream",
     "text": [
      "                           Date             User  \\\n",
      "0     2023-01-26 22:02:34+00:00        SeanButta   \n",
      "1     2023-01-26 17:37:38+00:00     yfinanceplus   \n",
      "2     2023-01-26 16:50:14+00:00   ImrichKasperko   \n",
      "3     2023-01-26 16:48:07+00:00   KaddeXofficial   \n",
      "4     2023-01-26 14:04:04+00:00  StephaneDeBaets   \n",
      "...                         ...              ...   \n",
      "14643 2013-12-10 01:11:24+00:00     OfficialMelB   \n",
      "14644 2013-12-08 18:29:55+00:00         mashable   \n",
      "14645 2013-11-19 20:30:59+00:00     kaylatausche   \n",
      "14646 2013-11-19 09:29:06+00:00    rachelbotsman   \n",
      "14647 2013-10-28 19:37:16+00:00      CatClifford   \n",
      "\n",
      "                                                   Tweet  \n",
      "0      Stacks' network usage was ⬆️ in Q4, resulting ...  \n",
      "1      The crypto market is having a (majority) green...  \n",
      "2      @KaddeXofficial @Bitcoin @ethereum @kadena_io ...  \n",
      "3      The Blockchain evolution 💻\\n\\n2009 @bitcoin:\\n...  \n",
      "4      Seems like the regulatory pendulum is about to...  \n",
      "...                                                  ...  \n",
      "14643  Excited to offer #ForOnceInMyLife for purchase...  \n",
      "14644  .@Bitcoin Prices Plunge After China Cracks Dow...  \n",
      "14645  Love that @caroljsroth just compared @Bitcoin ...  \n",
      "14646  Interested in understanding in's and out's of ...  \n",
      "14647  Two hot investment trends have collided: You c...  \n",
      "\n",
      "[14648 rows x 3 columns]\n"
     ]
    }
   ],
   "source": [
    "for tweet in sntwitter.TwitterSearchScraper(query).get_items():\n",
    "    if len(tweets) == limit:  \n",
    "        break\n",
    "    else:\n",
    "        tweets.append([tweet.date,tweet.user.username,tweet.content])\n",
    "    \n",
    "df = pd.DataFrame(tweets, columns=['Date', 'User', 'Tweet'])\n",
    "print(df)"
   ]
  },
  {
   "cell_type": "code",
   "execution_count": 32,
   "id": "be024099",
   "metadata": {},
   "outputs": [],
   "source": [
    "df.to_csv(\"Bitcoin_data.csv\")"
   ]
  },
  {
   "cell_type": "markdown",
   "id": "b8f63f01",
   "metadata": {},
   "source": [
    "### "
   ]
  },
  {
   "cell_type": "markdown",
   "id": "85f6ba7f",
   "metadata": {},
   "source": [
    "### Extracting Tweets For Ethereum :-"
   ]
  },
  {
   "cell_type": "code",
   "execution_count": 35,
   "id": "a136fdfc",
   "metadata": {},
   "outputs": [],
   "source": [
    "query = \"(@Ethereum) min_faves:10 until:2023-01-27 since:2015-12-12\"\n",
    "tweets =[]\n",
    "limit = 15000"
   ]
  },
  {
   "cell_type": "code",
   "execution_count": 36,
   "id": "9af6c4b6",
   "metadata": {},
   "outputs": [
    {
     "name": "stderr",
     "output_type": "stream",
     "text": [
      "<ipython-input-36-702511a8d22e>:5: FutureWarning: content is deprecated, use rawContent instead\n",
      "  tweets.append([tweet.date,tweet.user.username,tweet.content])\n"
     ]
    },
    {
     "name": "stdout",
     "output_type": "stream",
     "text": [
      "                           Date            User  \\\n",
      "0     2023-01-26 21:49:12+00:00    PaulCiantar1   \n",
      "1     2023-01-26 19:30:30+00:00        buidlbee   \n",
      "2     2023-01-26 19:09:52+00:00     LukeTradesz   \n",
      "3     2023-01-26 19:02:17+00:00     ZKValidator   \n",
      "4     2023-01-26 18:17:19+00:00         DefiNft   \n",
      "...                         ...             ...   \n",
      "14995 2021-05-08 23:26:52+00:00        harryyeh   \n",
      "14996 2021-05-08 23:26:51+00:00        harryyeh   \n",
      "14997 2021-05-08 22:44:43+00:00    Cryptocalm11   \n",
      "14998 2021-05-08 22:39:11+00:00  carlosmarcialt   \n",
      "14999 2021-05-08 22:26:29+00:00        iamfarmo   \n",
      "\n",
      "                                                   Tweet  \n",
      "0      What are we all bullish on today \\n1. @DeGodsN...  \n",
      "1      IMPORTANT🚨\\n\\nUpcoming #Shibarium L2 #blockcha...  \n",
      "2      Crazy that @0xPolygon is currently taking over...  \n",
      "3      Nice weekend read 📘\\n\\nBridging @MinaProtocol ...  \n",
      "4      You can now generate AI art inside the new Cha...  \n",
      "...                                                  ...  \n",
      "14995  4/ My friend Marcus came to me and expressed t...  \n",
      "14996  3/ One of the first projects I am happy to hav...  \n",
      "14997  A thought... $ETH is touching $4k and they are...  \n",
      "14998  Aping into $ETH at $371, after some months of ...  \n",
      "14999  @safemoon will push @binance passed @ethereum ...  \n",
      "\n",
      "[15000 rows x 3 columns]\n"
     ]
    }
   ],
   "source": [
    "for tweet in sntwitter.TwitterSearchScraper(query).get_items():\n",
    "    if len(tweets) == limit:  \n",
    "        break\n",
    "    else:\n",
    "        tweets.append([tweet.date,tweet.user.username,tweet.content])\n",
    "    \n",
    "df = pd.DataFrame(tweets, columns=['Date', 'User', 'Tweet'])\n",
    "print(df)"
   ]
  },
  {
   "cell_type": "code",
   "execution_count": 37,
   "id": "6f2c4c24",
   "metadata": {},
   "outputs": [],
   "source": [
    "df.to_csv(\"Ethereum_data.csv\")"
   ]
  },
  {
   "cell_type": "markdown",
   "id": "505fc6a9",
   "metadata": {},
   "source": [
    "### "
   ]
  },
  {
   "cell_type": "markdown",
   "id": "c760be52",
   "metadata": {},
   "source": [
    "### Extracting Tweets For Dogecoin :-"
   ]
  },
  {
   "cell_type": "code",
   "execution_count": 38,
   "id": "43dab46a",
   "metadata": {},
   "outputs": [],
   "source": [
    "query = \"(@dogecoin) min_faves:10 until:2023-01-27 since:2015-12-12\"\n",
    "tweets =[]\n",
    "limit = 15000"
   ]
  },
  {
   "cell_type": "code",
   "execution_count": 39,
   "id": "764a517f",
   "metadata": {},
   "outputs": [
    {
     "name": "stderr",
     "output_type": "stream",
     "text": [
      "<ipython-input-39-702511a8d22e>:5: FutureWarning: content is deprecated, use rawContent instead\n",
      "  tweets.append([tweet.date,tweet.user.username,tweet.content])\n"
     ]
    },
    {
     "name": "stdout",
     "output_type": "stream",
     "text": [
      "                          Date             User  \\\n",
      "0    2023-01-26 19:54:24+00:00         BabyQom1   \n",
      "1    2023-01-26 17:37:38+00:00     koinefendisi   \n",
      "2    2023-01-26 13:41:31+00:00      GateioLearn   \n",
      "3    2023-01-25 19:40:24+00:00  Danielmarius666   \n",
      "4    2023-01-25 18:34:52+00:00        Utoday_en   \n",
      "...                        ...              ...   \n",
      "9094 2016-01-15 13:56:54+00:00         dogecoin   \n",
      "9095 2016-01-15 12:27:28+00:00         dogecoin   \n",
      "9096 2016-01-04 12:24:03+00:00         Vindyne8   \n",
      "9097 2015-12-21 10:36:57+00:00       forkpaynet   \n",
      "9098 2015-12-20 21:54:03+00:00         Vindyne8   \n",
      "\n",
      "                                                  Tweet  \n",
      "0     My God, we thank you for all the blessings you...  \n",
      "1     🔥 #Doge #Dogecoin 🔥 @dogecoin \\n• Uzun Süredir...  \n",
      "2     1/ Daily Learning Thread🧵\\n\\n⚠️What is Dogecoi...  \n",
      "3     $LTO is the future of cryptocurrency world,the...  \n",
      "4     Can #DOGE withstand bears' pressure? #Dogecoin...  \n",
      "...                                                 ...  \n",
      "9094  Journalists: if you need an excuse to blame th...  \n",
      "9095  Did you hear? Bitcoin's dying! You know what i...  \n",
      "9096  Support @bitnodesnet &amp; your favorite alt! ...  \n",
      "9097  Article: Pay bills with altcoins https://t.co/...  \n",
      "9098  Support @bitnodesnet &amp; your favorite alt! ...  \n",
      "\n",
      "[9099 rows x 3 columns]\n"
     ]
    }
   ],
   "source": [
    "for tweet in sntwitter.TwitterSearchScraper(query).get_items():\n",
    "    if len(tweets) == limit:  \n",
    "        break\n",
    "    else:\n",
    "        tweets.append([tweet.date,tweet.user.username,tweet.content])\n",
    "    \n",
    "df = pd.DataFrame(tweets, columns=['Date', 'User', 'Tweet'])\n",
    "print(df)"
   ]
  },
  {
   "cell_type": "code",
   "execution_count": 40,
   "id": "dfa96d96",
   "metadata": {},
   "outputs": [],
   "source": [
    "df.to_csv(\"dogecoin_data.csv\")"
   ]
  }
 ],
 "metadata": {
  "kernelspec": {
   "display_name": "Python 3",
   "language": "python",
   "name": "python3"
  },
  "language_info": {
   "codemirror_mode": {
    "name": "ipython",
    "version": 3
   },
   "file_extension": ".py",
   "mimetype": "text/x-python",
   "name": "python",
   "nbconvert_exporter": "python",
   "pygments_lexer": "ipython3",
   "version": "3.8.8"
  }
 },
 "nbformat": 4,
 "nbformat_minor": 5
}
