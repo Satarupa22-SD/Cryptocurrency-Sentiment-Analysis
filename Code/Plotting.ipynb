{
 "cells": [
  {
   "cell_type": "markdown",
   "id": "0f67a53b",
   "metadata": {},
   "source": [
    "## Initializing The libraries:-"
   ]
  },
  {
   "cell_type": "code",
   "execution_count": 2,
   "id": "885f515f",
   "metadata": {},
   "outputs": [],
   "source": [
    "import pandas as pd\n",
    "import matplotlib.pyplot as plt\n",
    "%matplotlib inline\n",
    "import numpy as np\n",
    "import seaborn as sns\n",
    "from sklearn.model_selection import train_test_split\n",
    "from sklearn.metrics import fbeta_score\n",
    "from sklearn.preprocessing import LabelEncoder\n",
    "from sklearn.linear_model import LogisticRegression\n",
    "from sklearn.tree import DecisionTreeClassifier\n",
    "from sklearn.ensemble import RandomForestClassifier\n",
    "from collections import defaultdict\n"
   ]
  },
  {
   "cell_type": "markdown",
   "id": "f536e305",
   "metadata": {},
   "source": [
    "### Reading The CSV File With The Sentiment Score:-"
   ]
  },
  {
   "cell_type": "code",
   "execution_count": 3,
   "id": "30672f4c",
   "metadata": {},
   "outputs": [],
   "source": [
    "df = pd.read_csv(\"C:\\\\Users\\\\lucy22\\\\Sentiment Analysis\\\\sentiment.csv\")"
   ]
  },
  {
   "cell_type": "code",
   "execution_count": 4,
   "id": "ef9f16b2",
   "metadata": {},
   "outputs": [
    {
     "data": {
      "text/html": [
       "<div>\n",
       "<style scoped>\n",
       "    .dataframe tbody tr th:only-of-type {\n",
       "        vertical-align: middle;\n",
       "    }\n",
       "\n",
       "    .dataframe tbody tr th {\n",
       "        vertical-align: top;\n",
       "    }\n",
       "\n",
       "    .dataframe thead th {\n",
       "        text-align: right;\n",
       "    }\n",
       "</style>\n",
       "<table border=\"1\" class=\"dataframe\">\n",
       "  <thead>\n",
       "    <tr style=\"text-align: right;\">\n",
       "      <th></th>\n",
       "      <th>Unnamed: 0</th>\n",
       "      <th>Unnamed: 0.1</th>\n",
       "      <th>Date</th>\n",
       "      <th>User</th>\n",
       "      <th>Tweet</th>\n",
       "      <th>sentiment</th>\n",
       "    </tr>\n",
       "  </thead>\n",
       "  <tbody>\n",
       "    <tr>\n",
       "      <th>0</th>\n",
       "      <td>0</td>\n",
       "      <td>0</td>\n",
       "      <td>2023-01-26 12:00:02+00:00</td>\n",
       "      <td>CoinexF</td>\n",
       "      <td>💡Découvrez le Top 5 des #cryptomonnaies les pl...</td>\n",
       "      <td>2</td>\n",
       "    </tr>\n",
       "    <tr>\n",
       "      <th>1</th>\n",
       "      <td>1</td>\n",
       "      <td>1</td>\n",
       "      <td>2023-01-26 04:50:54+00:00</td>\n",
       "      <td>ri_meyers</td>\n",
       "      <td>The opportunity is still here to grab some low...</td>\n",
       "      <td>3</td>\n",
       "    </tr>\n",
       "    <tr>\n",
       "      <th>2</th>\n",
       "      <td>2</td>\n",
       "      <td>2</td>\n",
       "      <td>2023-01-25 18:53:48+00:00</td>\n",
       "      <td>___INFINITY___</td>\n",
       "      <td>🔥Join and win for $25,000 rewards for @coinbas...</td>\n",
       "      <td>3</td>\n",
       "    </tr>\n",
       "    <tr>\n",
       "      <th>3</th>\n",
       "      <td>3</td>\n",
       "      <td>3</td>\n",
       "      <td>2023-01-25 18:12:35+00:00</td>\n",
       "      <td>Jay_Brockett</td>\n",
       "      <td>Day 140 kindly asking @coinbase to List #VOLTI...</td>\n",
       "      <td>3</td>\n",
       "    </tr>\n",
       "    <tr>\n",
       "      <th>4</th>\n",
       "      <td>4</td>\n",
       "      <td>4</td>\n",
       "      <td>2023-01-25 17:11:30+00:00</td>\n",
       "      <td>BennyAtTheBank</td>\n",
       "      <td>Look how helpful @MetaMask is with this email ...</td>\n",
       "      <td>3</td>\n",
       "    </tr>\n",
       "    <tr>\n",
       "      <th>...</th>\n",
       "      <td>...</td>\n",
       "      <td>...</td>\n",
       "      <td>...</td>\n",
       "      <td>...</td>\n",
       "      <td>...</td>\n",
       "      <td>...</td>\n",
       "    </tr>\n",
       "    <tr>\n",
       "      <th>4262</th>\n",
       "      <td>4262</td>\n",
       "      <td>4262</td>\n",
       "      <td>2019-12-17 16:20:38+00:00</td>\n",
       "      <td>veradittakit</td>\n",
       "      <td>Pantera is proud to be leading the Series A ro...</td>\n",
       "      <td>3</td>\n",
       "    </tr>\n",
       "    <tr>\n",
       "      <th>4263</th>\n",
       "      <td>4263</td>\n",
       "      <td>4263</td>\n",
       "      <td>2019-12-15 19:49:03+00:00</td>\n",
       "      <td>Concept211</td>\n",
       "      <td>I can't recommend @ChicoCrypto's research enou...</td>\n",
       "      <td>1</td>\n",
       "    </tr>\n",
       "    <tr>\n",
       "      <th>4264</th>\n",
       "      <td>4264</td>\n",
       "      <td>4264</td>\n",
       "      <td>2019-12-13 14:40:36+00:00</td>\n",
       "      <td>Brad_Laurie</td>\n",
       "      <td>If you are a #crypto solider with a 'only-one-...</td>\n",
       "      <td>3</td>\n",
       "    </tr>\n",
       "    <tr>\n",
       "      <th>4265</th>\n",
       "      <td>4265</td>\n",
       "      <td>4265</td>\n",
       "      <td>2019-12-12 17:50:50+00:00</td>\n",
       "      <td>TheCryptoZombie</td>\n",
       "      <td>What’s the best price to buy #Bitcoin at? In t...</td>\n",
       "      <td>2</td>\n",
       "    </tr>\n",
       "    <tr>\n",
       "      <th>4266</th>\n",
       "      <td>4266</td>\n",
       "      <td>4266</td>\n",
       "      <td>2019-12-12 17:00:04+00:00</td>\n",
       "      <td>PlayRoyal_EN</td>\n",
       "      <td>🎲#Dice $ETHPLO Competition is Live!\\nLasting a...</td>\n",
       "      <td>2</td>\n",
       "    </tr>\n",
       "  </tbody>\n",
       "</table>\n",
       "<p>4267 rows × 6 columns</p>\n",
       "</div>"
      ],
      "text/plain": [
       "      Unnamed: 0  Unnamed: 0.1                       Date             User  \\\n",
       "0              0             0  2023-01-26 12:00:02+00:00          CoinexF   \n",
       "1              1             1  2023-01-26 04:50:54+00:00        ri_meyers   \n",
       "2              2             2  2023-01-25 18:53:48+00:00   ___INFINITY___   \n",
       "3              3             3  2023-01-25 18:12:35+00:00     Jay_Brockett   \n",
       "4              4             4  2023-01-25 17:11:30+00:00   BennyAtTheBank   \n",
       "...          ...           ...                        ...              ...   \n",
       "4262        4262          4262  2019-12-17 16:20:38+00:00     veradittakit   \n",
       "4263        4263          4263  2019-12-15 19:49:03+00:00       Concept211   \n",
       "4264        4264          4264  2019-12-13 14:40:36+00:00      Brad_Laurie   \n",
       "4265        4265          4265  2019-12-12 17:50:50+00:00  TheCryptoZombie   \n",
       "4266        4266          4266  2019-12-12 17:00:04+00:00     PlayRoyal_EN   \n",
       "\n",
       "                                                  Tweet  sentiment  \n",
       "0     💡Découvrez le Top 5 des #cryptomonnaies les pl...          2  \n",
       "1     The opportunity is still here to grab some low...          3  \n",
       "2     🔥Join and win for $25,000 rewards for @coinbas...          3  \n",
       "3     Day 140 kindly asking @coinbase to List #VOLTI...          3  \n",
       "4     Look how helpful @MetaMask is with this email ...          3  \n",
       "...                                                 ...        ...  \n",
       "4262  Pantera is proud to be leading the Series A ro...          3  \n",
       "4263  I can't recommend @ChicoCrypto's research enou...          1  \n",
       "4264  If you are a #crypto solider with a 'only-one-...          3  \n",
       "4265  What’s the best price to buy #Bitcoin at? In t...          2  \n",
       "4266  🎲#Dice $ETHPLO Competition is Live!\\nLasting a...          2  \n",
       "\n",
       "[4267 rows x 6 columns]"
      ]
     },
     "execution_count": 4,
     "metadata": {},
     "output_type": "execute_result"
    }
   ],
   "source": [
    "df"
   ]
  },
  {
   "cell_type": "code",
   "execution_count": 5,
   "id": "47ba8f9a",
   "metadata": {},
   "outputs": [],
   "source": [
    "df2 = df.drop(['Unnamed: 0.1'], axis = 1)"
   ]
  },
  {
   "cell_type": "code",
   "execution_count": 6,
   "id": "9cb974c8",
   "metadata": {},
   "outputs": [
    {
     "data": {
      "text/html": [
       "<div>\n",
       "<style scoped>\n",
       "    .dataframe tbody tr th:only-of-type {\n",
       "        vertical-align: middle;\n",
       "    }\n",
       "\n",
       "    .dataframe tbody tr th {\n",
       "        vertical-align: top;\n",
       "    }\n",
       "\n",
       "    .dataframe thead th {\n",
       "        text-align: right;\n",
       "    }\n",
       "</style>\n",
       "<table border=\"1\" class=\"dataframe\">\n",
       "  <thead>\n",
       "    <tr style=\"text-align: right;\">\n",
       "      <th></th>\n",
       "      <th>Unnamed: 0</th>\n",
       "      <th>Date</th>\n",
       "      <th>User</th>\n",
       "      <th>Tweet</th>\n",
       "      <th>sentiment</th>\n",
       "    </tr>\n",
       "  </thead>\n",
       "  <tbody>\n",
       "    <tr>\n",
       "      <th>0</th>\n",
       "      <td>0</td>\n",
       "      <td>2023-01-26 12:00:02+00:00</td>\n",
       "      <td>CoinexF</td>\n",
       "      <td>💡Découvrez le Top 5 des #cryptomonnaies les pl...</td>\n",
       "      <td>2</td>\n",
       "    </tr>\n",
       "    <tr>\n",
       "      <th>1</th>\n",
       "      <td>1</td>\n",
       "      <td>2023-01-26 04:50:54+00:00</td>\n",
       "      <td>ri_meyers</td>\n",
       "      <td>The opportunity is still here to grab some low...</td>\n",
       "      <td>3</td>\n",
       "    </tr>\n",
       "    <tr>\n",
       "      <th>2</th>\n",
       "      <td>2</td>\n",
       "      <td>2023-01-25 18:53:48+00:00</td>\n",
       "      <td>___INFINITY___</td>\n",
       "      <td>🔥Join and win for $25,000 rewards for @coinbas...</td>\n",
       "      <td>3</td>\n",
       "    </tr>\n",
       "    <tr>\n",
       "      <th>3</th>\n",
       "      <td>3</td>\n",
       "      <td>2023-01-25 18:12:35+00:00</td>\n",
       "      <td>Jay_Brockett</td>\n",
       "      <td>Day 140 kindly asking @coinbase to List #VOLTI...</td>\n",
       "      <td>3</td>\n",
       "    </tr>\n",
       "    <tr>\n",
       "      <th>4</th>\n",
       "      <td>4</td>\n",
       "      <td>2023-01-25 17:11:30+00:00</td>\n",
       "      <td>BennyAtTheBank</td>\n",
       "      <td>Look how helpful @MetaMask is with this email ...</td>\n",
       "      <td>3</td>\n",
       "    </tr>\n",
       "    <tr>\n",
       "      <th>...</th>\n",
       "      <td>...</td>\n",
       "      <td>...</td>\n",
       "      <td>...</td>\n",
       "      <td>...</td>\n",
       "      <td>...</td>\n",
       "    </tr>\n",
       "    <tr>\n",
       "      <th>4262</th>\n",
       "      <td>4262</td>\n",
       "      <td>2019-12-17 16:20:38+00:00</td>\n",
       "      <td>veradittakit</td>\n",
       "      <td>Pantera is proud to be leading the Series A ro...</td>\n",
       "      <td>3</td>\n",
       "    </tr>\n",
       "    <tr>\n",
       "      <th>4263</th>\n",
       "      <td>4263</td>\n",
       "      <td>2019-12-15 19:49:03+00:00</td>\n",
       "      <td>Concept211</td>\n",
       "      <td>I can't recommend @ChicoCrypto's research enou...</td>\n",
       "      <td>1</td>\n",
       "    </tr>\n",
       "    <tr>\n",
       "      <th>4264</th>\n",
       "      <td>4264</td>\n",
       "      <td>2019-12-13 14:40:36+00:00</td>\n",
       "      <td>Brad_Laurie</td>\n",
       "      <td>If you are a #crypto solider with a 'only-one-...</td>\n",
       "      <td>3</td>\n",
       "    </tr>\n",
       "    <tr>\n",
       "      <th>4265</th>\n",
       "      <td>4265</td>\n",
       "      <td>2019-12-12 17:50:50+00:00</td>\n",
       "      <td>TheCryptoZombie</td>\n",
       "      <td>What’s the best price to buy #Bitcoin at? In t...</td>\n",
       "      <td>2</td>\n",
       "    </tr>\n",
       "    <tr>\n",
       "      <th>4266</th>\n",
       "      <td>4266</td>\n",
       "      <td>2019-12-12 17:00:04+00:00</td>\n",
       "      <td>PlayRoyal_EN</td>\n",
       "      <td>🎲#Dice $ETHPLO Competition is Live!\\nLasting a...</td>\n",
       "      <td>2</td>\n",
       "    </tr>\n",
       "  </tbody>\n",
       "</table>\n",
       "<p>4267 rows × 5 columns</p>\n",
       "</div>"
      ],
      "text/plain": [
       "      Unnamed: 0                       Date             User  \\\n",
       "0              0  2023-01-26 12:00:02+00:00          CoinexF   \n",
       "1              1  2023-01-26 04:50:54+00:00        ri_meyers   \n",
       "2              2  2023-01-25 18:53:48+00:00   ___INFINITY___   \n",
       "3              3  2023-01-25 18:12:35+00:00     Jay_Brockett   \n",
       "4              4  2023-01-25 17:11:30+00:00   BennyAtTheBank   \n",
       "...          ...                        ...              ...   \n",
       "4262        4262  2019-12-17 16:20:38+00:00     veradittakit   \n",
       "4263        4263  2019-12-15 19:49:03+00:00       Concept211   \n",
       "4264        4264  2019-12-13 14:40:36+00:00      Brad_Laurie   \n",
       "4265        4265  2019-12-12 17:50:50+00:00  TheCryptoZombie   \n",
       "4266        4266  2019-12-12 17:00:04+00:00     PlayRoyal_EN   \n",
       "\n",
       "                                                  Tweet  sentiment  \n",
       "0     💡Découvrez le Top 5 des #cryptomonnaies les pl...          2  \n",
       "1     The opportunity is still here to grab some low...          3  \n",
       "2     🔥Join and win for $25,000 rewards for @coinbas...          3  \n",
       "3     Day 140 kindly asking @coinbase to List #VOLTI...          3  \n",
       "4     Look how helpful @MetaMask is with this email ...          3  \n",
       "...                                                 ...        ...  \n",
       "4262  Pantera is proud to be leading the Series A ro...          3  \n",
       "4263  I can't recommend @ChicoCrypto's research enou...          1  \n",
       "4264  If you are a #crypto solider with a 'only-one-...          3  \n",
       "4265  What’s the best price to buy #Bitcoin at? In t...          2  \n",
       "4266  🎲#Dice $ETHPLO Competition is Live!\\nLasting a...          2  \n",
       "\n",
       "[4267 rows x 5 columns]"
      ]
     },
     "execution_count": 6,
     "metadata": {},
     "output_type": "execute_result"
    }
   ],
   "source": [
    "df2"
   ]
  },
  {
   "cell_type": "code",
   "execution_count": 11,
   "id": "83ff3b89",
   "metadata": {},
   "outputs": [
    {
     "data": {
      "text/html": [
       "<div>\n",
       "<style scoped>\n",
       "    .dataframe tbody tr th:only-of-type {\n",
       "        vertical-align: middle;\n",
       "    }\n",
       "\n",
       "    .dataframe tbody tr th {\n",
       "        vertical-align: top;\n",
       "    }\n",
       "\n",
       "    .dataframe thead th {\n",
       "        text-align: right;\n",
       "    }\n",
       "</style>\n",
       "<table border=\"1\" class=\"dataframe\">\n",
       "  <thead>\n",
       "    <tr style=\"text-align: right;\">\n",
       "      <th></th>\n",
       "      <th>Date</th>\n",
       "      <th>User</th>\n",
       "      <th>Tweet</th>\n",
       "      <th>sentiment</th>\n",
       "    </tr>\n",
       "  </thead>\n",
       "  <tbody>\n",
       "    <tr>\n",
       "      <th>0</th>\n",
       "      <td>2023-01-26 12:00:02+00:00</td>\n",
       "      <td>CoinexF</td>\n",
       "      <td>💡Découvrez le Top 5 des #cryptomonnaies les pl...</td>\n",
       "      <td>2</td>\n",
       "    </tr>\n",
       "    <tr>\n",
       "      <th>1</th>\n",
       "      <td>2023-01-26 04:50:54+00:00</td>\n",
       "      <td>ri_meyers</td>\n",
       "      <td>The opportunity is still here to grab some low...</td>\n",
       "      <td>3</td>\n",
       "    </tr>\n",
       "    <tr>\n",
       "      <th>2</th>\n",
       "      <td>2023-01-25 18:53:48+00:00</td>\n",
       "      <td>___INFINITY___</td>\n",
       "      <td>🔥Join and win for $25,000 rewards for @coinbas...</td>\n",
       "      <td>3</td>\n",
       "    </tr>\n",
       "    <tr>\n",
       "      <th>3</th>\n",
       "      <td>2023-01-25 18:12:35+00:00</td>\n",
       "      <td>Jay_Brockett</td>\n",
       "      <td>Day 140 kindly asking @coinbase to List #VOLTI...</td>\n",
       "      <td>3</td>\n",
       "    </tr>\n",
       "    <tr>\n",
       "      <th>4</th>\n",
       "      <td>2023-01-25 17:11:30+00:00</td>\n",
       "      <td>BennyAtTheBank</td>\n",
       "      <td>Look how helpful @MetaMask is with this email ...</td>\n",
       "      <td>3</td>\n",
       "    </tr>\n",
       "    <tr>\n",
       "      <th>...</th>\n",
       "      <td>...</td>\n",
       "      <td>...</td>\n",
       "      <td>...</td>\n",
       "      <td>...</td>\n",
       "    </tr>\n",
       "    <tr>\n",
       "      <th>4262</th>\n",
       "      <td>2019-12-17 16:20:38+00:00</td>\n",
       "      <td>veradittakit</td>\n",
       "      <td>Pantera is proud to be leading the Series A ro...</td>\n",
       "      <td>3</td>\n",
       "    </tr>\n",
       "    <tr>\n",
       "      <th>4263</th>\n",
       "      <td>2019-12-15 19:49:03+00:00</td>\n",
       "      <td>Concept211</td>\n",
       "      <td>I can't recommend @ChicoCrypto's research enou...</td>\n",
       "      <td>1</td>\n",
       "    </tr>\n",
       "    <tr>\n",
       "      <th>4264</th>\n",
       "      <td>2019-12-13 14:40:36+00:00</td>\n",
       "      <td>Brad_Laurie</td>\n",
       "      <td>If you are a #crypto solider with a 'only-one-...</td>\n",
       "      <td>3</td>\n",
       "    </tr>\n",
       "    <tr>\n",
       "      <th>4265</th>\n",
       "      <td>2019-12-12 17:50:50+00:00</td>\n",
       "      <td>TheCryptoZombie</td>\n",
       "      <td>What’s the best price to buy #Bitcoin at? In t...</td>\n",
       "      <td>2</td>\n",
       "    </tr>\n",
       "    <tr>\n",
       "      <th>4266</th>\n",
       "      <td>2019-12-12 17:00:04+00:00</td>\n",
       "      <td>PlayRoyal_EN</td>\n",
       "      <td>🎲#Dice $ETHPLO Competition is Live!\\nLasting a...</td>\n",
       "      <td>2</td>\n",
       "    </tr>\n",
       "  </tbody>\n",
       "</table>\n",
       "<p>4267 rows × 4 columns</p>\n",
       "</div>"
      ],
      "text/plain": [
       "                           Date             User  \\\n",
       "0     2023-01-26 12:00:02+00:00          CoinexF   \n",
       "1     2023-01-26 04:50:54+00:00        ri_meyers   \n",
       "2     2023-01-25 18:53:48+00:00   ___INFINITY___   \n",
       "3     2023-01-25 18:12:35+00:00     Jay_Brockett   \n",
       "4     2023-01-25 17:11:30+00:00   BennyAtTheBank   \n",
       "...                         ...              ...   \n",
       "4262  2019-12-17 16:20:38+00:00     veradittakit   \n",
       "4263  2019-12-15 19:49:03+00:00       Concept211   \n",
       "4264  2019-12-13 14:40:36+00:00      Brad_Laurie   \n",
       "4265  2019-12-12 17:50:50+00:00  TheCryptoZombie   \n",
       "4266  2019-12-12 17:00:04+00:00     PlayRoyal_EN   \n",
       "\n",
       "                                                  Tweet  sentiment  \n",
       "0     💡Découvrez le Top 5 des #cryptomonnaies les pl...          2  \n",
       "1     The opportunity is still here to grab some low...          3  \n",
       "2     🔥Join and win for $25,000 rewards for @coinbas...          3  \n",
       "3     Day 140 kindly asking @coinbase to List #VOLTI...          3  \n",
       "4     Look how helpful @MetaMask is with this email ...          3  \n",
       "...                                                 ...        ...  \n",
       "4262  Pantera is proud to be leading the Series A ro...          3  \n",
       "4263  I can't recommend @ChicoCrypto's research enou...          1  \n",
       "4264  If you are a #crypto solider with a 'only-one-...          3  \n",
       "4265  What’s the best price to buy #Bitcoin at? In t...          2  \n",
       "4266  🎲#Dice $ETHPLO Competition is Live!\\nLasting a...          2  \n",
       "\n",
       "[4267 rows x 4 columns]"
      ]
     },
     "execution_count": 11,
     "metadata": {},
     "output_type": "execute_result"
    }
   ],
   "source": [
    "df2.drop(['Unnamed: 0'], axis = 1)"
   ]
  },
  {
   "cell_type": "markdown",
   "id": "f72084f8",
   "metadata": {},
   "source": [
    "### Plotting The Graph For The Results Achived:-"
   ]
  },
  {
   "cell_type": "code",
   "execution_count": 13,
   "id": "806f6053",
   "metadata": {},
   "outputs": [
    {
     "data": {
      "text/plain": [
       "array([[<AxesSubplot:title={'center':'Unnamed: 0'}>,\n",
       "        <AxesSubplot:title={'center':'sentiment'}>]], dtype=object)"
      ]
     },
     "execution_count": 13,
     "metadata": {},
     "output_type": "execute_result"
    },
    {
     "data": {
      "image/png": "[encoded data removed]",
      "text/plain": [
       "<Figure size 1080x576 with 2 Axes>"
      ]
     },
     "metadata": {
      "needs_background": "light"
     },
     "output_type": "display_data"
    }
   ],
   "source": [
    "df2.hist(figsize=(15,8))"
   ]
  },
  {
   "cell_type": "markdown",
   "id": "6d670832",
   "metadata": {},
   "source": [
    "### Conclusion:-\n",
    "The histogram shows that the maximum tweets have positive sentiment."
   ]
  },
  {
   "cell_type": "code",
   "execution_count": 16,
   "id": "2646d88f",
   "metadata": {
    "scrolled": true
   },
   "outputs": [
    {
     "data": {
      "text/plain": [
       "<AxesSubplot:>"
      ]
     },
     "execution_count": 16,
     "metadata": {},
     "output_type": "execute_result"
    },
    {
     "data": {
      "image/png": "[encoded data removed]",
      "text/plain": [
       "<Figure size 432x288 with 1 Axes>"
      ]
     },
     "metadata": {
      "needs_background": "light"
     },
     "output_type": "display_data"
    }
   ],
   "source": [
    "sns.lineplot(data=df2)"
   ]
  },
  {
   "cell_type": "code",
   "execution_count": 21,
   "id": "ae903ae9",
   "metadata": {},
   "outputs": [
    {
     "data": {
      "text/plain": [
       "<AxesSubplot:xlabel='Date', ylabel='Unnamed: 0'>"
      ]
     },
     "execution_count": 21,
     "metadata": {},
     "output_type": "execute_result"
    },
    {
     "data": {
      "image/png": "[encoded data removed]",
      "text/plain": [
       "<Figure size 432x432 with 1 Axes>"
      ]
     },
     "metadata": {
      "needs_background": "light"
     },
     "output_type": "display_data"
    }
   ],
   "source": [
    "plt.figure(figsize=(6,6))\n",
    "sns.scatterplot(x ='Date', y='Unnamed: 0', data=df2, hue='sentiment', palette='RdBu_r')"
   ]
  }
 ],
 "metadata": {
  "kernelspec": {
   "display_name": "Python 3",
   "language": "python",
   "name": "python3"
  },
  "language_info": {
   "codemirror_mode": {
    "name": "ipython",
    "version": 3
   },
   "file_extension": ".py",
   "mimetype": "text/x-python",
   "name": "python",
   "nbconvert_exporter": "python",
   "pygments_lexer": "ipython3",
   "version": "3.8.8"
  }
 },
 "nbformat": 4,
 "nbformat_minor": 5
}
