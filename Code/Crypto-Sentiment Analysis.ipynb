{
 "cells": [
  {
   "cell_type": "markdown",
   "id": "538acc55",
   "metadata": {},
   "source": [
    "### IMPORT DEPENDENCIES"
   ]
  },
  {
   "cell_type": "code",
   "execution_count": 3,
   "id": "ba910eef",
   "metadata": {},
   "outputs": [
    {
     "name": "stdout",
     "output_type": "stream",
     "text": [
      "Looking in indexes: https://pypi.org/simple, https://download.pytorch.org/whl/cu117\n",
      "Requirement already satisfied: torch in c:\\users\\lucy22\\anaconda3\\lib\\site-packages (1.12.1+cpu)\n",
      "Requirement already satisfied: torchvision in c:\\users\\lucy22\\anaconda3\\lib\\site-packages (0.13.1+cpu)\n",
      "Requirement already satisfied: torchaudio in c:\\users\\lucy22\\anaconda3\\lib\\site-packages (0.12.1+cpu)\n",
      "Requirement already satisfied: typing-extensions in c:\\users\\lucy22\\anaconda3\\lib\\site-packages (from torch) (4.2.0)\n",
      "Requirement already satisfied: requests in c:\\users\\lucy22\\anaconda3\\lib\\site-packages (from torchvision) (2.28.0)\n",
      "Requirement already satisfied: numpy in c:\\users\\lucy22\\anaconda3\\lib\\site-packages (from torchvision) (1.20.1)\n",
      "Requirement already satisfied: pillow!=8.3.*,>=5.3.0 in c:\\users\\lucy22\\anaconda3\\lib\\site-packages (from torchvision) (8.2.0)\n",
      "Requirement already satisfied: idna<4,>=2.5 in c:\\users\\lucy22\\anaconda3\\lib\\site-packages (from requests->torchvision) (2.10)\n",
      "Requirement already satisfied: certifi>=2017.4.17 in c:\\users\\lucy22\\anaconda3\\lib\\site-packages (from requests->torchvision) (2022.12.7)\n",
      "Requirement already satisfied: charset-normalizer~=2.0.0 in c:\\users\\lucy22\\anaconda3\\lib\\site-packages (from requests->torchvision) (2.0.12)\n",
      "Requirement already satisfied: urllib3<1.27,>=1.21.1 in c:\\users\\lucy22\\anaconda3\\lib\\site-packages (from requests->torchvision) (1.26.4)\n"
     ]
    }
   ],
   "source": [
    "!pip install torch torchvision torchaudio --extra-index-url https://download.pytorch.org/whl/cu117"
   ]
  },
  {
   "cell_type": "code",
   "execution_count": 4,
   "id": "0217859b",
   "metadata": {},
   "outputs": [],
   "source": [
    "from transformers import AutoTokenizer, AutoModelForSequenceClassification\n",
    "import torch\n",
    "import requests\n",
    "import re\n",
    "import pandas as pd\n",
    "import numpy as np"
   ]
  },
  {
   "cell_type": "markdown",
   "id": "04559c09",
   "metadata": {},
   "source": [
    "### INSTANTIATE  MODEL"
   ]
  },
  {
   "cell_type": "code",
   "execution_count": 6,
   "id": "669620bd",
   "metadata": {},
   "outputs": [
    {
     "name": "stderr",
     "output_type": "stream",
     "text": [
      "Some weights of the model checkpoint at cardiffnlp/twitter-roberta-base-sentiment-latest were not used when initializing RobertaForSequenceClassification: ['roberta.pooler.dense.bias', 'roberta.pooler.dense.weight']\n",
      "- This IS expected if you are initializing RobertaForSequenceClassification from the checkpoint of a model trained on another task or with another architecture (e.g. initializing a BertForSequenceClassification model from a BertForPreTraining model).\n",
      "- This IS NOT expected if you are initializing RobertaForSequenceClassification from the checkpoint of a model that you expect to be exactly identical (initializing a BertForSequenceClassification model from a BertForSequenceClassification model).\n"
     ]
    }
   ],
   "source": [
    "tokenizer = AutoTokenizer.from_pretrained('cardiffnlp/twitter-roberta-base-sentiment-latest')\n",
    "model = AutoModelForSequenceClassification.from_pretrained('cardiffnlp/twitter-roberta-base-sentiment-latest')"
   ]
  },
  {
   "cell_type": "markdown",
   "id": "1bfb81c4",
   "metadata": {},
   "source": [
    "### ENCODE AND CALCULATE SENTIMENT"
   ]
  },
  {
   "cell_type": "code",
   "execution_count": 7,
   "id": "4ea4a5ed",
   "metadata": {},
   "outputs": [],
   "source": [
    "tokens = tokenizer.encode('Ok. I admit it. Iâ€™m starting to use my @coinbase card more than my @Apple card now. I like the 4% #crypto back no matter how I use the card. Just some foreshadowing of how much abuse the @investvoyager card will get when I get it. #VGX', return_tensors='pt')"
   ]
  },
  {
   "cell_type": "code",
   "execution_count": 9,
   "id": "157a8875",
   "metadata": {},
   "outputs": [],
   "source": [
    "result = model(tokens)"
   ]
  },
  {
   "cell_type": "code",
   "execution_count": 12,
   "id": "7e8f6c83",
   "metadata": {},
   "outputs": [
    {
     "data": {
      "text/plain": [
       "tensor([[-0.9049,  0.3853,  0.2639]], grad_fn=<AddmmBackward0>)"
      ]
     },
     "execution_count": 12,
     "metadata": {},
     "output_type": "execute_result"
    }
   ],
   "source": [
    "result.logits"
   ]
  },
  {
   "cell_type": "code",
   "execution_count": 13,
   "id": "c47e073a",
   "metadata": {},
   "outputs": [
    {
     "data": {
      "text/plain": [
       "2"
      ]
     },
     "execution_count": 13,
     "metadata": {},
     "output_type": "execute_result"
    }
   ],
   "source": [
    "int(torch.argmax(result.logits))+1"
   ]
  },
  {
   "cell_type": "markdown",
   "id": "27ad5c5d",
   "metadata": {},
   "source": [
    "### COLLECT DATA FROM CSV"
   ]
  },
  {
   "cell_type": "code",
   "execution_count": 17,
   "id": "7ff87e9a",
   "metadata": {
    "scrolled": true
   },
   "outputs": [],
   "source": [
    "df = pd.read_csv('C:\\\\Users\\\\lucy22\\\\Sentiment Analysis\\\\Cryptocurrency_data.csv ')"
   ]
  },
  {
   "cell_type": "code",
   "execution_count": 18,
   "id": "a5eb5684",
   "metadata": {},
   "outputs": [
    {
     "data": {
      "text/html": [
       "<div>\n",
       "<style scoped>\n",
       "    .dataframe tbody tr th:only-of-type {\n",
       "        vertical-align: middle;\n",
       "    }\n",
       "\n",
       "    .dataframe tbody tr th {\n",
       "        vertical-align: top;\n",
       "    }\n",
       "\n",
       "    .dataframe thead th {\n",
       "        text-align: right;\n",
       "    }\n",
       "</style>\n",
       "<table border=\"1\" class=\"dataframe\">\n",
       "  <thead>\n",
       "    <tr style=\"text-align: right;\">\n",
       "      <th></th>\n",
       "      <th>Unnamed: 0</th>\n",
       "      <th>Date</th>\n",
       "      <th>User</th>\n",
       "      <th>Tweet</th>\n",
       "    </tr>\n",
       "  </thead>\n",
       "  <tbody>\n",
       "    <tr>\n",
       "      <th>0</th>\n",
       "      <td>0</td>\n",
       "      <td>2023-01-26 12:00:02+00:00</td>\n",
       "      <td>CoinexF</td>\n",
       "      <td>💡Découvrez le Top 5 des #cryptomonnaies les pl...</td>\n",
       "    </tr>\n",
       "    <tr>\n",
       "      <th>1</th>\n",
       "      <td>1</td>\n",
       "      <td>2023-01-26 04:50:54+00:00</td>\n",
       "      <td>ri_meyers</td>\n",
       "      <td>The opportunity is still here to grab some low...</td>\n",
       "    </tr>\n",
       "    <tr>\n",
       "      <th>2</th>\n",
       "      <td>2</td>\n",
       "      <td>2023-01-25 18:53:48+00:00</td>\n",
       "      <td>___INFINITY___</td>\n",
       "      <td>🔥Join and win for $25,000 rewards for @coinbas...</td>\n",
       "    </tr>\n",
       "    <tr>\n",
       "      <th>3</th>\n",
       "      <td>3</td>\n",
       "      <td>2023-01-25 18:12:35+00:00</td>\n",
       "      <td>Jay_Brockett</td>\n",
       "      <td>Day 140 kindly asking @coinbase to List #VOLTI...</td>\n",
       "    </tr>\n",
       "    <tr>\n",
       "      <th>4</th>\n",
       "      <td>4</td>\n",
       "      <td>2023-01-25 17:11:30+00:00</td>\n",
       "      <td>BennyAtTheBank</td>\n",
       "      <td>Look how helpful @MetaMask is with this email ...</td>\n",
       "    </tr>\n",
       "    <tr>\n",
       "      <th>...</th>\n",
       "      <td>...</td>\n",
       "      <td>...</td>\n",
       "      <td>...</td>\n",
       "      <td>...</td>\n",
       "    </tr>\n",
       "    <tr>\n",
       "      <th>4262</th>\n",
       "      <td>4262</td>\n",
       "      <td>2019-12-17 16:20:38+00:00</td>\n",
       "      <td>veradittakit</td>\n",
       "      <td>Pantera is proud to be leading the Series A ro...</td>\n",
       "    </tr>\n",
       "    <tr>\n",
       "      <th>4263</th>\n",
       "      <td>4263</td>\n",
       "      <td>2019-12-15 19:49:03+00:00</td>\n",
       "      <td>Concept211</td>\n",
       "      <td>I can't recommend @ChicoCrypto's research enou...</td>\n",
       "    </tr>\n",
       "    <tr>\n",
       "      <th>4264</th>\n",
       "      <td>4264</td>\n",
       "      <td>2019-12-13 14:40:36+00:00</td>\n",
       "      <td>Brad_Laurie</td>\n",
       "      <td>If you are a #crypto solider with a 'only-one-...</td>\n",
       "    </tr>\n",
       "    <tr>\n",
       "      <th>4265</th>\n",
       "      <td>4265</td>\n",
       "      <td>2019-12-12 17:50:50+00:00</td>\n",
       "      <td>TheCryptoZombie</td>\n",
       "      <td>What’s the best price to buy #Bitcoin at? In t...</td>\n",
       "    </tr>\n",
       "    <tr>\n",
       "      <th>4266</th>\n",
       "      <td>4266</td>\n",
       "      <td>2019-12-12 17:00:04+00:00</td>\n",
       "      <td>PlayRoyal_EN</td>\n",
       "      <td>🎲#Dice $ETHPLO Competition is Live!\\nLasting a...</td>\n",
       "    </tr>\n",
       "  </tbody>\n",
       "</table>\n",
       "<p>4267 rows × 4 columns</p>\n",
       "</div>"
      ],
      "text/plain": [
       "      Unnamed: 0                       Date             User  \\\n",
       "0              0  2023-01-26 12:00:02+00:00          CoinexF   \n",
       "1              1  2023-01-26 04:50:54+00:00        ri_meyers   \n",
       "2              2  2023-01-25 18:53:48+00:00   ___INFINITY___   \n",
       "3              3  2023-01-25 18:12:35+00:00     Jay_Brockett   \n",
       "4              4  2023-01-25 17:11:30+00:00   BennyAtTheBank   \n",
       "...          ...                        ...              ...   \n",
       "4262        4262  2019-12-17 16:20:38+00:00     veradittakit   \n",
       "4263        4263  2019-12-15 19:49:03+00:00       Concept211   \n",
       "4264        4264  2019-12-13 14:40:36+00:00      Brad_Laurie   \n",
       "4265        4265  2019-12-12 17:50:50+00:00  TheCryptoZombie   \n",
       "4266        4266  2019-12-12 17:00:04+00:00     PlayRoyal_EN   \n",
       "\n",
       "                                                  Tweet  \n",
       "0     💡Découvrez le Top 5 des #cryptomonnaies les pl...  \n",
       "1     The opportunity is still here to grab some low...  \n",
       "2     🔥Join and win for $25,000 rewards for @coinbas...  \n",
       "3     Day 140 kindly asking @coinbase to List #VOLTI...  \n",
       "4     Look how helpful @MetaMask is with this email ...  \n",
       "...                                                 ...  \n",
       "4262  Pantera is proud to be leading the Series A ro...  \n",
       "4263  I can't recommend @ChicoCrypto's research enou...  \n",
       "4264  If you are a #crypto solider with a 'only-one-...  \n",
       "4265  What’s the best price to buy #Bitcoin at? In t...  \n",
       "4266  🎲#Dice $ETHPLO Competition is Live!\\nLasting a...  \n",
       "\n",
       "[4267 rows x 4 columns]"
      ]
     },
     "execution_count": 18,
     "metadata": {},
     "output_type": "execute_result"
    }
   ],
   "source": [
    "df"
   ]
  },
  {
   "cell_type": "markdown",
   "id": "1fe6575c",
   "metadata": {},
   "source": [
    "### LOAD REVIEWS INTO DATAFRAME AND SCORE\n",
    "#### Data Score:-\n",
    "Here Sentiment Score of 1 denotes negative sentiment, 2 is for Neutral sentiment and 3 is for Positive Sentiment."
   ]
  },
  {
   "cell_type": "code",
   "execution_count": 20,
   "id": "abf142de",
   "metadata": {},
   "outputs": [
    {
     "data": {
      "text/plain": [
       "'💡Découvrez le Top 5 des #cryptomonnaies les plus recherchées sur CoinEx le 19/01/2023\\n\\n1️⃣ $APT @Aptos_Network\\n2️⃣ $DYDX @dYdX\\n3️⃣ #BABYDOGE @BabyDogeCoin\\n4️⃣ $BTC @Bitcoin\\n5️⃣ $BONK @bonk_inu\\n\\nSource 👉 https://t.co/3bKMrxHxID\\n\\n#CoinEx #cryptosphère #Crypto #CryptoTrading https://t.co/KRnAUVTh2t'"
      ]
     },
     "execution_count": 20,
     "metadata": {},
     "output_type": "execute_result"
    }
   ],
   "source": [
    "df['Tweet'].iloc[0]"
   ]
  },
  {
   "cell_type": "code",
   "execution_count": 21,
   "id": "f4a13e14",
   "metadata": {},
   "outputs": [],
   "source": [
    "def sentiment_score(Tweet):\n",
    "    tokens = tokenizer.encode(Tweet, return_tensors='pt')\n",
    "    result = model(tokens)\n",
    "    return int(torch.argmax(result.logits))+1\n",
    "    "
   ]
  },
  {
   "cell_type": "code",
   "execution_count": 22,
   "id": "58da95d8",
   "metadata": {},
   "outputs": [
    {
     "data": {
      "text/plain": [
       "2"
      ]
     },
     "execution_count": 22,
     "metadata": {},
     "output_type": "execute_result"
    }
   ],
   "source": [
    "sentiment_score(df['Tweet'].iloc[0])"
   ]
  },
  {
   "cell_type": "code",
   "execution_count": 23,
   "id": "99dceae7",
   "metadata": {},
   "outputs": [],
   "source": [
    "df['sentiment'] = df['Tweet'].apply(lambda x: sentiment_score(x[:512]))"
   ]
  },
  {
   "cell_type": "code",
   "execution_count": 24,
   "id": "e0dbb0aa",
   "metadata": {},
   "outputs": [
    {
     "data": {
      "text/html": [
       "<div>\n",
       "<style scoped>\n",
       "    .dataframe tbody tr th:only-of-type {\n",
       "        vertical-align: middle;\n",
       "    }\n",
       "\n",
       "    .dataframe tbody tr th {\n",
       "        vertical-align: top;\n",
       "    }\n",
       "\n",
       "    .dataframe thead th {\n",
       "        text-align: right;\n",
       "    }\n",
       "</style>\n",
       "<table border=\"1\" class=\"dataframe\">\n",
       "  <thead>\n",
       "    <tr style=\"text-align: right;\">\n",
       "      <th></th>\n",
       "      <th>Unnamed: 0</th>\n",
       "      <th>Date</th>\n",
       "      <th>User</th>\n",
       "      <th>Tweet</th>\n",
       "      <th>sentiment</th>\n",
       "    </tr>\n",
       "  </thead>\n",
       "  <tbody>\n",
       "    <tr>\n",
       "      <th>0</th>\n",
       "      <td>0</td>\n",
       "      <td>2023-01-26 12:00:02+00:00</td>\n",
       "      <td>CoinexF</td>\n",
       "      <td>💡Découvrez le Top 5 des #cryptomonnaies les pl...</td>\n",
       "      <td>2</td>\n",
       "    </tr>\n",
       "    <tr>\n",
       "      <th>1</th>\n",
       "      <td>1</td>\n",
       "      <td>2023-01-26 04:50:54+00:00</td>\n",
       "      <td>ri_meyers</td>\n",
       "      <td>The opportunity is still here to grab some low...</td>\n",
       "      <td>3</td>\n",
       "    </tr>\n",
       "    <tr>\n",
       "      <th>2</th>\n",
       "      <td>2</td>\n",
       "      <td>2023-01-25 18:53:48+00:00</td>\n",
       "      <td>___INFINITY___</td>\n",
       "      <td>🔥Join and win for $25,000 rewards for @coinbas...</td>\n",
       "      <td>3</td>\n",
       "    </tr>\n",
       "    <tr>\n",
       "      <th>3</th>\n",
       "      <td>3</td>\n",
       "      <td>2023-01-25 18:12:35+00:00</td>\n",
       "      <td>Jay_Brockett</td>\n",
       "      <td>Day 140 kindly asking @coinbase to List #VOLTI...</td>\n",
       "      <td>2</td>\n",
       "    </tr>\n",
       "    <tr>\n",
       "      <th>4</th>\n",
       "      <td>4</td>\n",
       "      <td>2023-01-25 17:11:30+00:00</td>\n",
       "      <td>BennyAtTheBank</td>\n",
       "      <td>Look how helpful @MetaMask is with this email ...</td>\n",
       "      <td>3</td>\n",
       "    </tr>\n",
       "    <tr>\n",
       "      <th>...</th>\n",
       "      <td>...</td>\n",
       "      <td>...</td>\n",
       "      <td>...</td>\n",
       "      <td>...</td>\n",
       "      <td>...</td>\n",
       "    </tr>\n",
       "    <tr>\n",
       "      <th>4262</th>\n",
       "      <td>4262</td>\n",
       "      <td>2019-12-17 16:20:38+00:00</td>\n",
       "      <td>veradittakit</td>\n",
       "      <td>Pantera is proud to be leading the Series A ro...</td>\n",
       "      <td>3</td>\n",
       "    </tr>\n",
       "    <tr>\n",
       "      <th>4263</th>\n",
       "      <td>4263</td>\n",
       "      <td>2019-12-15 19:49:03+00:00</td>\n",
       "      <td>Concept211</td>\n",
       "      <td>I can't recommend @ChicoCrypto's research enou...</td>\n",
       "      <td>3</td>\n",
       "    </tr>\n",
       "    <tr>\n",
       "      <th>4264</th>\n",
       "      <td>4264</td>\n",
       "      <td>2019-12-13 14:40:36+00:00</td>\n",
       "      <td>Brad_Laurie</td>\n",
       "      <td>If you are a #crypto solider with a 'only-one-...</td>\n",
       "      <td>2</td>\n",
       "    </tr>\n",
       "    <tr>\n",
       "      <th>4265</th>\n",
       "      <td>4265</td>\n",
       "      <td>2019-12-12 17:50:50+00:00</td>\n",
       "      <td>TheCryptoZombie</td>\n",
       "      <td>What’s the best price to buy #Bitcoin at? In t...</td>\n",
       "      <td>2</td>\n",
       "    </tr>\n",
       "    <tr>\n",
       "      <th>4266</th>\n",
       "      <td>4266</td>\n",
       "      <td>2019-12-12 17:00:04+00:00</td>\n",
       "      <td>PlayRoyal_EN</td>\n",
       "      <td>🎲#Dice $ETHPLO Competition is Live!\\nLasting a...</td>\n",
       "      <td>2</td>\n",
       "    </tr>\n",
       "  </tbody>\n",
       "</table>\n",
       "<p>4267 rows × 5 columns</p>\n",
       "</div>"
      ],
      "text/plain": [
       "      Unnamed: 0                       Date             User  \\\n",
       "0              0  2023-01-26 12:00:02+00:00          CoinexF   \n",
       "1              1  2023-01-26 04:50:54+00:00        ri_meyers   \n",
       "2              2  2023-01-25 18:53:48+00:00   ___INFINITY___   \n",
       "3              3  2023-01-25 18:12:35+00:00     Jay_Brockett   \n",
       "4              4  2023-01-25 17:11:30+00:00   BennyAtTheBank   \n",
       "...          ...                        ...              ...   \n",
       "4262        4262  2019-12-17 16:20:38+00:00     veradittakit   \n",
       "4263        4263  2019-12-15 19:49:03+00:00       Concept211   \n",
       "4264        4264  2019-12-13 14:40:36+00:00      Brad_Laurie   \n",
       "4265        4265  2019-12-12 17:50:50+00:00  TheCryptoZombie   \n",
       "4266        4266  2019-12-12 17:00:04+00:00     PlayRoyal_EN   \n",
       "\n",
       "                                                  Tweet  sentiment  \n",
       "0     💡Découvrez le Top 5 des #cryptomonnaies les pl...          2  \n",
       "1     The opportunity is still here to grab some low...          3  \n",
       "2     🔥Join and win for $25,000 rewards for @coinbas...          3  \n",
       "3     Day 140 kindly asking @coinbase to List #VOLTI...          2  \n",
       "4     Look how helpful @MetaMask is with this email ...          3  \n",
       "...                                                 ...        ...  \n",
       "4262  Pantera is proud to be leading the Series A ro...          3  \n",
       "4263  I can't recommend @ChicoCrypto's research enou...          3  \n",
       "4264  If you are a #crypto solider with a 'only-one-...          2  \n",
       "4265  What’s the best price to buy #Bitcoin at? In t...          2  \n",
       "4266  🎲#Dice $ETHPLO Competition is Live!\\nLasting a...          2  \n",
       "\n",
       "[4267 rows x 5 columns]"
      ]
     },
     "execution_count": 24,
     "metadata": {},
     "output_type": "execute_result"
    }
   ],
   "source": [
    "df"
   ]
  },
  {
   "cell_type": "markdown",
   "id": "156e785a",
   "metadata": {},
   "source": [
    "### CONVERTING DATAFRAME TO CSV :-"
   ]
  },
  {
   "cell_type": "code",
   "execution_count": 25,
   "id": "1afa2937",
   "metadata": {},
   "outputs": [],
   "source": [
    "df.to_csv(\"sentiment.csv\")"
   ]
  }
 ],
 "metadata": {
  "kernelspec": {
   "display_name": "Python 3",
   "language": "python",
   "name": "python3"
  },
  "language_info": {
   "codemirror_mode": {
    "name": "ipython",
    "version": 3
   },
   "file_extension": ".py",
   "mimetype": "text/x-python",
   "name": "python",
   "nbconvert_exporter": "python",
   "pygments_lexer": "ipython3",
   "version": "3.8.8"
  }
 },
 "nbformat": 4,
 "nbformat_minor": 5
}
